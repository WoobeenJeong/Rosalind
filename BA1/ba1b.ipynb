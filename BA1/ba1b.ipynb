{
 "cells": [
  {
   "cell_type": "code",
   "execution_count": 33,
   "metadata": {},
   "outputs": [],
   "source": [
    "with open(\"rosalind_ba1b.txt\", \"r\") as file:\n",
    "    string = file.readline().strip()\n",
    "    kmer = int(file.readline().strip())"
   ]
  },
  {
   "cell_type": "code",
   "execution_count": 34,
   "metadata": {},
   "outputs": [
    {
     "data": {
      "text/plain": [
       "('AGGCGACTCGGCAACTGTAATTAGAGGAAATACCAAAAAATACCAAAAAATTAGAGGAAATACCAAAAAGGCAACTGTAATTAGAGGAAATACCAAAAAATACCAAAAAATTAGAGGAAATTAGAGGAAATTAGAGGAAATACCAAAAAGGCAACTGTAAGGCGACTCGAGGTATATATACCAAAAAGGCAACTGTAATTAGAGGAAAGGCGACTCAGGCGACTCGGCAACTGTAGAGGTATATGAGGTATATAGGCGACTCATACCAAAAAGGCAACTGTAGAGGTATATATACCAAAAAATACCAAAAAAGGCGACTCGAGGTATATAGGCGACTCATACCAAAAAATTAGAGGAAATACCAAAAAATTAGAGGAAAGGCGACTCGAGGTATATGAGGTATATGAGGTATATGGCAACTGTAGAGGTATATGAGGTATATAGGCGACTCGAGGTATATATTAGAGGAAATTAGAGGAAAGGCGACTCGAGGTATATGAGGTATATATACCAAAAAATACCAAAAAGGCAACTGTAATACCAAAAAATTAGAGGAAAGGCGACTCGAGGTATATGGCAACTGTAAGGCGACTCATTAGAGGAAATACCAAAAAATACCAAAAAATTAGAGGAAATACCAAAAAGAGGTATATAGGCGACTCAGGCGACTCGAGGTATATGAGGTATATAGGCGACTCATTAGAGGAAATACCAAAAAATACCAAAAAGAGGTATATGAGGTATATATACCAAAAAAGGCGACTCGAGGTATATATTAGAGGAAATACCAAAAAATACCAAAAAGGCAACTGTAATTAGAGGAAATACCAAAAAAGGCGACTCGGCAACTGTAGGCAACTGTAATACCAAAAAAGGCGACTCAGGCGACTCAGGCGACTCATTAGAGGAAGAGGTATAT',\n",
       " 12)"
      ]
     },
     "execution_count": 34,
     "metadata": {},
     "output_type": "execute_result"
    }
   ],
   "source": [
    "string, kmer"
   ]
  },
  {
   "cell_type": "code",
   "execution_count": 35,
   "metadata": {},
   "outputs": [],
   "source": [
    "def findpattern(string,kmer):\n",
    "    \n",
    "    pattern_dict = {}       # for making dictionary that can check the repeated patterns\n",
    "    \n",
    "    for i in range(len(string)-kmer+1):\n",
    "        pattern = string[i:i+kmer]\n",
    "        if pattern in pattern_dict:\n",
    "            pattern_dict[pattern] += 1\n",
    "        else:\n",
    "            pattern_dict[pattern] = 1\n",
    "    \n",
    "    maximum = max(pattern_dict.values())\n",
    "    target = [pattern for pattern, count in pattern_dict.items() if count == maximum]\n",
    "    return target"
   ]
  },
  {
   "cell_type": "code",
   "execution_count": 36,
   "metadata": {},
   "outputs": [
    {
     "name": "stdout",
     "output_type": "stream",
     "text": [
      "AAATACCAAAAA\n"
     ]
    }
   ],
   "source": [
    "result = findpattern(string,kmer)\n",
    "print(\" \".join(sorted(result)))"
   ]
  }
 ],
 "metadata": {
  "kernelspec": {
   "display_name": "Python 3",
   "language": "python",
   "name": "python3"
  },
  "language_info": {
   "codemirror_mode": {
    "name": "ipython",
    "version": 3
   },
   "file_extension": ".py",
   "mimetype": "text/x-python",
   "name": "python",
   "nbconvert_exporter": "python",
   "pygments_lexer": "ipython3",
   "version": "3.10.11 (tags/v3.10.11:7d4cc5a, Apr  5 2023, 00:38:17) [MSC v.1929 64 bit (AMD64)]"
  },
  "orig_nbformat": 4,
  "vscode": {
   "interpreter": {
    "hash": "366f9de4a1878ed8f09516a426b62a3a703aa5fa25c40c9ddde35f183c040af7"
   }
  }
 },
 "nbformat": 4,
 "nbformat_minor": 2
}
