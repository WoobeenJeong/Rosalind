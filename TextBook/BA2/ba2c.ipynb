{
 "cells": [
  {
   "cell_type": "code",
   "execution_count": 1,
   "metadata": {},
   "outputs": [],
   "source": [
    "dna=\"ACCTGTTTATTGCCTAAGTTCCGAACAAACCCAATATAGCCCGAGGGCCT\"\n",
    "k=int(5)\n",
    "profile = {\n",
    "    \"A\": [0.2, 0.2, 0.3, 0.2, 0.3],\n",
    "    \"C\": [0.4, 0.3, 0.1, 0.5, 0.1],\n",
    "    \"G\": [0.3, 0.3, 0.5, 0.2, 0.4],\n",
    "    \"T\": [0.1, 0.2, 0.1, 0.1, 0.2]\n",
    "}\n"
   ]
  },
  {
   "cell_type": "code",
   "execution_count": 2,
   "metadata": {},
   "outputs": [
    {
     "name": "stdout",
     "output_type": "stream",
     "text": [
      "AATGGATAATCTTTAGAACTACAGGGCTGGAGACAAACTCCCTTGGGCGCGTATGGTATGTCCTCACGTAGAAGCGACCTCGGAGCGGCTCTGGGAGCTACCACCACCTGGTTGGCAACGGTGAGATTGCTAAGCGTGTATCACGTTTCCAATGTTCGACTTCCCCTCGGAACGACTTGCACAACCTTTCCGTGGATCCA \n",
      " 6 \n",
      " [[0.121, 0.091, 0.182, 0.303, 0.182, 0.273], [0.182, 0.333, 0.182, 0.333, 0.182, 0.152], [0.455, 0.303, 0.303, 0.242, 0.242, 0.364], [0.242, 0.273, 0.333, 0.121, 0.394, 0.212]]\n"
     ]
    }
   ],
   "source": [
    "with open(\"rosalind_ba2c.txt\", \"r\") as file:\n",
    "    lines = file.readlines()\n",
    "\n",
    "dna = lines[0].strip()\n",
    "k = int(lines[1].strip())\n",
    "\n",
    "matrix = []\n",
    "for line in lines[2:]:\n",
    "    row = [float(val) for val in line.split()]\n",
    "    matrix.append(row)\n",
    "\n",
    "print(dna,\"\\n\",k,\"\\n\",matrix)"
   ]
  },
  {
   "cell_type": "code",
   "execution_count": 3,
   "metadata": {},
   "outputs": [
    {
     "name": "stdout",
     "output_type": "stream",
     "text": [
      "AATGGATAATCTTTAGAACTACAGGGCTGGAGACAAACTCCCTTGGGCGCGTATGGTATGTCCTCACGTAGAAGCGACCTCGGAGCGGCTCTGGGAGCTACCACCACCTGGTTGGCAACGGTGAGATTGCTAAGCGTGTATCACGTTTCCAATGTTCGACTTCCCCTCGGAACGACTTGCACAACCTTTCCGTGGATCCA \n",
      " 6 \n",
      " {'A': [0.121, 0.091, 0.182, 0.303, 0.182, 0.273], 'C': [0.182, 0.333, 0.182, 0.333, 0.182, 0.152], 'G': [0.455, 0.303, 0.303, 0.242, 0.242, 0.364], 'T': [0.242, 0.273, 0.333, 0.121, 0.394, 0.212]}\n"
     ]
    }
   ],
   "source": [
    "with open(\"rosalind_ba2c.txt\", \"r\") as file:\n",
    "    lines = file.readlines()\n",
    "\n",
    "dna = lines[0].strip()\n",
    "k = int(lines[1].strip())\n",
    "\n",
    "matrix = []\n",
    "for line in lines[2:]:\n",
    "    row = [float(val) for val in line.split()]\n",
    "    matrix.append(row)\n",
    "\n",
    "nt = ['A', 'C', 'G', 'T']\n",
    "profile = {}\n",
    "for i in range(len(nt)):\n",
    "    nucleotide = nt[i]\n",
    "    each = matrix[i]\n",
    "    profile[nucleotide] = each\n",
    "\n",
    "print(dna,\"\\n\",k,\"\\n\",profile)"
   ]
  },
  {
   "cell_type": "code",
   "execution_count": 4,
   "metadata": {},
   "outputs": [],
   "source": [
    "def most1(string, k, input_matrix):\n",
    "    maxium = 0\n",
    "    most = \"\"\n",
    "\n",
    "    nt_dict = {'A': 0, 'C': 1, 'G': 2, 'T': 3}\n",
    "\n",
    "    for i in range(len(string)-k+1):\n",
    "        kmer = string[i:i+k]\n",
    "        probability = 1\n",
    "        for j in range(k):\n",
    "            nt = kmer[j]\n",
    "            nt_matrix = nt_dict[nt]\n",
    "            probability *= input_matrix[nt_matrix][j]\n",
    "\n",
    "        # print(nt_matrix)\n",
    "        # print(input_matrix)\n",
    "        # print(probability)\n",
    "        \n",
    "        if probability > maxium:\n",
    "            maxium = probability\n",
    "            most = kmer\n",
    "\n",
    "    return most"
   ]
  },
  {
   "cell_type": "code",
   "execution_count": 5,
   "metadata": {},
   "outputs": [],
   "source": [
    "def most2(string, k, profile):\n",
    "    max = 0\n",
    "    most = \"\"\n",
    "\n",
    "    for i in range(len(string) - k + 1):\n",
    "        kmer = string[i:i + k]\n",
    "        probability = 1\n",
    "        for j in range(k):\n",
    "            nt = kmer[j]\n",
    "            probability *= profile[nt][j]\n",
    "\n",
    "        if probability > max:\n",
    "            max = probability\n",
    "            most = kmer\n",
    "\n",
    "    return most\n"
   ]
  },
  {
   "cell_type": "code",
   "execution_count": 6,
   "metadata": {},
   "outputs": [
    {
     "name": "stdout",
     "output_type": "stream",
     "text": [
      "GCTCTG\n"
     ]
    }
   ],
   "source": [
    "result = most1(dna,k,matrix)\n",
    "print(result)"
   ]
  },
  {
   "cell_type": "code",
   "execution_count": 7,
   "metadata": {},
   "outputs": [
    {
     "name": "stdout",
     "output_type": "stream",
     "text": [
      "GCTCTG\n"
     ]
    }
   ],
   "source": [
    "result = most2(dna,k,profile)\n",
    "print(result)"
   ]
  }
 ],
 "metadata": {
  "kernelspec": {
   "display_name": "Python 3",
   "language": "python",
   "name": "python3"
  },
  "language_info": {
   "codemirror_mode": {
    "name": "ipython",
    "version": 3
   },
   "file_extension": ".py",
   "mimetype": "text/x-python",
   "name": "python",
   "nbconvert_exporter": "python",
   "pygments_lexer": "ipython3",
   "version": "3.10.11"
  },
  "orig_nbformat": 4,
  "vscode": {
   "interpreter": {
    "hash": "366f9de4a1878ed8f09516a426b62a3a703aa5fa25c40c9ddde35f183c040af7"
   }
  }
 },
 "nbformat": 4,
 "nbformat_minor": 2
}
