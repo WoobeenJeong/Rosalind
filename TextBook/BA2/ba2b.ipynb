{
 "cells": [
  {
   "attachments": {},
   "cell_type": "markdown",
   "metadata": {},
   "source": [
    "### 목적은 모든 문자열에서 hamming distance가 가장 적은 kmer를 찾는 것\n",
    "### 이를 위해서는 1. 각 stirng에서 가능한 모든 kmer pattern 만들기 2. pattern이 갖는 hamming distance계산하기 (string별로) 3. 해당 distance의 합이 가장 적은 경우 4. kmer pattern반환"
   ]
  },
  {
   "cell_type": "code",
   "execution_count": 1,
   "metadata": {},
   "outputs": [],
   "source": [
    "# 이건 망한 코드지만 왜 다른 값인 ACG가 나오는지 확인하고 싶음 \n",
    "\n",
    "def hamming(pattern, kmer):\n",
    "    distance = 0    \n",
    "    for i in range(len(pattern)):\n",
    "        if pattern[i] != kmer[i]:\n",
    "            distance += -1\n",
    "    return distance\n",
    "\n",
    "def sum_min_dist(dna, pattern):\n",
    "    min_hamm_list = []\n",
    "\n",
    "    for string in dna:\n",
    "        min_hamm = float('inf')\n",
    "        for i in range(len(string)-len(pattern)+1):\n",
    "            kmer = string[i:i+len(pattern)]\n",
    "            hamm = hamming(pattern, kmer)\n",
    "            min_hamm = min(min_hamm, hamm)\n",
    "        min_hamm_list.append(min_hamm)\n",
    "\n",
    "    return sum(min_hamm_list)\n",
    "\n",
    "def least(dna, k):\n",
    "    k = int(k)\n",
    "    pattern_dict = []\n",
    "    min_dist = float('inf')\n",
    "    result = \"\"\n",
    "\n",
    "    def generate_patterns(pattern, k):\n",
    "        if k == 0:\n",
    "            pattern_dict.append(pattern)\n",
    "            return\n",
    "        for base in \"ACGT\":\n",
    "            generate_patterns(pattern + base, k - 1)\n",
    "\n",
    "    generate_patterns(\"\", k)\n",
    "\n",
    "\n",
    "    for pattern in pattern_dict:\n",
    "        distance = sum_min_dist(dna, pattern)\n",
    "        if distance < min_dist:\n",
    "            min_dist = distance\n",
    "            common = pattern\n",
    "\n",
    "    return common\n"
   ]
  },
  {
   "cell_type": "code",
   "execution_count": 2,
   "metadata": {},
   "outputs": [
    {
     "name": "stdout",
     "output_type": "stream",
     "text": [
      "6\n",
      "ATGGGGCGGTAAAACGCAACTTGACCCAACAGGCTGCGTCTT\n",
      "GTTTTGTCCCTATTGTGGGACGGTGCTGCCTTGGTGCGGTAC\n",
      "AGTTATGAACTCTGTTCTAGTTGCTCTAAGCGGTAAGGAACT\n",
      "GAAGTTAAGGTCCGGTAAGGAACATTTATCTCCTTTGTCCGG\n",
      "GTTTGCCGGTAATCGGTTCATTCCGTCAAAAAGATCCGCTGG\n",
      "TACGACTGCAGTGACTATCGGTAAAGCCTGCTGAGCCATTGT\n",
      "CGGTATCGTAGACGTCAGATGACCGCCGATCGTCGGCACGGG\n",
      "AGTGACCGAGGCCGGTACCCGTATTAAATCCGAAGTTTATCG\n",
      "GCCATGAGGCGTCGGTAAACTGAATCACGAGAGCTGAGCCGG\n",
      "GCTCACCGACACTAGACACGGACCCGGTACGTCGGCTATGCG\n"
     ]
    }
   ],
   "source": [
    "with open(\"rosalind_ba2b.txt\", \"r\") as file:\n",
    "    lines = file.readlines()\n",
    "\n",
    "k = int(lines[0].split()[0])\n",
    "Dna = [line.strip() for line in lines[1:]]\n",
    "\n",
    "for line in lines:\n",
    "    print(line.strip())"
   ]
  },
  {
   "cell_type": "code",
   "execution_count": 3,
   "metadata": {},
   "outputs": [
    {
     "name": "stdout",
     "output_type": "stream",
     "text": [
      "AAAAAA\n"
     ]
    }
   ],
   "source": [
    "target = least(Dna,k)\n",
    "print(target)"
   ]
  },
  {
   "cell_type": "code",
   "execution_count": 4,
   "metadata": {},
   "outputs": [],
   "source": [
    "def hamm2(pattern1, pattern2):\n",
    "    total = 0\n",
    "\n",
    "    for i in range(len(pattern1)):\n",
    "        if pattern1[i] != pattern2[i]:\n",
    "            total += 1\n",
    "\n",
    "    return total"
   ]
  },
  {
   "cell_type": "code",
   "execution_count": 5,
   "metadata": {},
   "outputs": [],
   "source": [
    "def least2(dna, k):\n",
    "    min_dist = float('inf')\n",
    "    common = \"\"\n",
    "\n",
    "    for i in range(4**k):\n",
    "        pattern = \"\"\n",
    "        index = i\n",
    "\n",
    "        for j in range(k):\n",
    "            pattern += \"ACGT\"[index % 4]\n",
    "            index //= 4\n",
    "\n",
    "        # print(f'{pattern}:{index}')\n",
    "\n",
    "        sum_min_dist = 0\n",
    "\n",
    "        for text in dna:\n",
    "            distance = float('inf')\n",
    "\n",
    "            for i in range(len(text) - k + 1):\n",
    "                exist_kmer = text[i:i+k]\n",
    "                current_distance = hamm2(pattern, exist_kmer)\n",
    "\n",
    "                if current_distance < distance:\n",
    "                    distance = current_distance\n",
    "\n",
    "            sum_min_dist += distance\n",
    "\n",
    "        if sum_min_dist < min_dist:\n",
    "            min_dist = sum_min_dist\n",
    "            common = pattern\n",
    "\n",
    "    return common"
   ]
  },
  {
   "cell_type": "code",
   "execution_count": 6,
   "metadata": {},
   "outputs": [
    {
     "name": "stdout",
     "output_type": "stream",
     "text": [
      "CGGTAA\n"
     ]
    }
   ],
   "source": [
    "target = least2(Dna,k)\n",
    "print(target)"
   ]
  }
 ],
 "metadata": {
  "kernelspec": {
   "display_name": "Python 3",
   "language": "python",
   "name": "python3"
  },
  "language_info": {
   "codemirror_mode": {
    "name": "ipython",
    "version": 3
   },
   "file_extension": ".py",
   "mimetype": "text/x-python",
   "name": "python",
   "nbconvert_exporter": "python",
   "pygments_lexer": "ipython3",
   "version": "3.10.11"
  },
  "orig_nbformat": 4,
  "vscode": {
   "interpreter": {
    "hash": "366f9de4a1878ed8f09516a426b62a3a703aa5fa25c40c9ddde35f183c040af7"
   }
  }
 },
 "nbformat": 4,
 "nbformat_minor": 2
}
