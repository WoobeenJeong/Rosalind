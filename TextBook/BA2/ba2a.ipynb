{
 "cells": [
  {
   "attachments": {},
   "cell_type": "markdown",
   "metadata": {},
   "source": [
    "MOTIFENUMERATION(Dna, k, d)\n",
    "    Patterns ← an empty set\n",
    "    for each k-mer Pattern in Dna\n",
    "        for each k-mer Pattern’ differing from Pattern by at most d mismatches\n",
    "            if Pattern' appears in each string from Dna with at most d mismatches\n",
    "                add Pattern' to Patterns\n",
    "    remove duplicates from Patterns\n",
    "    return Patterns\n",
    "\n",
    "[Brute Force algorithm]\n"
   ]
  },
  {
   "cell_type": "code",
   "execution_count": 7,
   "metadata": {},
   "outputs": [],
   "source": [
    "def mutate(pattern, d):\n",
    "    def helper(input, n, remaining_d):                     # helper함수가 재귀식이 가능토록 함\n",
    "        if remaining_d == 0:                               # d번 변형을 순차적으로 할 것이므로, d번 이상/이하로 변형 안되도록\n",
    "            if input != pattern:                           # 변형된 값이 기존 pattern이랑 달라야 함\n",
    "                mutants.add(input)                         # d번 변형 완료 시, mutants에 input저장 (modify가 아닌 이유는 마지막에 modify를 input으로 받음)\n",
    "            return\n",
    "        \n",
    "        if n == len(pattern):                              # pattern의 길이와 변형할 위치가 같아지면 (예: 3자리 유전자 n=3번째 자리 도착) 끝내기\n",
    "            return                                         # 이 두번째 if문은 위의 첫번째 if문이 True여야 진행함\n",
    "        \n",
    "        for char in \"ACGT\":                                # A,C,G,T 중 1개로 변형할 것임\n",
    "            modify = input[:n] + char + input[n+1:]        # modify에 n번째 이전까지 문자열 + 변형n번째 + n번째 이후 문자열로 변형된 문자 저장\n",
    "            helper(modify, n+1, remaining_d-1)             # n+1은 똑같은 자리X 다른 자리를 바꾸기 위해, remain_d는 얼마나 변형 남았는지 횟수, 위로 다시 올라가 for반복\n",
    "        helper(input, n+1, remaining_d)                    # remain_d가 0일때, 즉 XXOO, XOXO, XOOX (X=바뀐자리)가 완료되면 OXXO와 OXOX를 위해 위로 올려보내기\n",
    "        \n",
    "    mutants = set()                                        # 이제 modify의 결과가 이동 된 \"input\"을 저장할 공간 만들어서\n",
    "    helper(pattern, 0, d)                                  # 초기에 n=\"0\" 즉 첫번째 문자열 위치부터 시작하기\n",
    "\n",
    "    # print(f\"{pattern}: {sorted(set(mutants))}\")           # 실제로 print해보면 k-mer 패턴 별로 d개씩 치환된 set={ , , ...,}을 확인 가능함\n",
    "    return mutants  "
   ]
  },
  {
   "cell_type": "code",
   "execution_count": 8,
   "metadata": {},
   "outputs": [],
   "source": [
    "def mutate(pattern, d):\n",
    "    def helper(input, n, remaining_d):\n",
    "        if remaining_d == 0:\n",
    "            if input != pattern:\n",
    "                mutants.add(input)\n",
    "            return\n",
    "        \n",
    "        if n == len(pattern):\n",
    "            return\n",
    "        \n",
    "        for char in \"ACGT\":\n",
    "            modify = input[:n] + char + input[n+1:]\n",
    "            helper(modify, n+1, remaining_d-1)\n",
    "        helper(input, n+1, remaining_d)\n",
    "    \n",
    "    mutants = set()\n",
    "    helper(pattern, 0, d)\n",
    "\n",
    "    return mutants"
   ]
  },
  {
   "cell_type": "code",
   "execution_count": 9,
   "metadata": {},
   "outputs": [],
   "source": [
    "def Motif_Enumeration(Dna, k, d):\n",
    "    \n",
    "    false_pattern_dict = {}                                 # string마다 구분해서 mutants를 가져올거라서 딕셔너리로 \n",
    "    \n",
    "    for string in Dna:\n",
    "        string_results = []\n",
    "        for i in range(len(string) - k + 1):\n",
    "            pattern = string[i:i + k]\n",
    "            false_pattern = mutate(pattern, d)              # 여기까지는 이전처럼 무난하게 k-mer 만드는 것, 이 결과를 위의 mutate함수에 넣으면 mutants를 얻음 \n",
    "            \n",
    "            for mutants in false_pattern:                   # 쉽게 구분하려고 여기서도 mutants로 명명\n",
    "                string_results.append(mutants)              # 각 string을 key값으로 하고, mutants들을 나열한 것을\n",
    "        \n",
    "        false_pattern_dict[string] = sorted(set(string_results)) # 알파벳 순으로 sorting해서 처음 만든 딕셔너리에 저장\n",
    "\n",
    "    # print(sorted(set(false_pattern_dict)))\n",
    "        \n",
    "    common = set(false_pattern_dict[Dna[0]])                # 딕셔너리의 첫번째 string을 common으로 가져옴\n",
    "    # print(common)\n",
    "    \n",
    "    \n",
    "    for i in range(1, len(Dna)):                           # for문을 활용해 Dna해당하는 string 개수만큼 \"1\"부터 = 첫번째 제외하고 가져옴\n",
    "        others= Dna[i]\n",
    "        common = common.intersection(false_pattern_dict[others])\n",
    "                                                           # 첫번째 string의 mutants들과 나머지 i개의 string에서 교집합을 계속 구함\n",
    "    return sorted(common)                                  # 즉, 모든 string에서 공통적으로 나타나는 mutant를 알파벳 순서로 정렬"
   ]
  },
  {
   "cell_type": "code",
   "execution_count": 10,
   "metadata": {},
   "outputs": [],
   "source": [
    "def hamming_distance(mutant, kmer):\n",
    "    count = 0\n",
    "    for i in range(len(mutant)):\n",
    "        if mutant[i] != kmer[i]:\n",
    "            count += 1\n",
    "    return count"
   ]
  },
  {
   "cell_type": "code",
   "execution_count": 11,
   "metadata": {},
   "outputs": [],
   "source": [
    "def motif_enumeration(Dna, k, d):\n",
    "    patterns = set()\n",
    "\n",
    "    for string in Dna:\n",
    "        for i in range(len(string) - k + 1):\n",
    "            pattern = string[i:i + k]\n",
    "            pattern_mutants = mutate(pattern, d)\n",
    "\n",
    "            for mutant in pattern_mutants:\n",
    "                count = 0\n",
    "                for sequence in Dna:\n",
    "                    for j in range(len(sequence) - k + 1):\n",
    "                        kmer = sequence[j:j + k]\n",
    "                        if hamming_distance(mutant, kmer) <= d:\n",
    "                            count += 1\n",
    "                            break\n",
    "                if count == len(Dna):\n",
    "                    patterns.add(mutant)\n",
    "\n",
    "    return list(patterns)"
   ]
  },
  {
   "cell_type": "code",
   "execution_count": 12,
   "metadata": {},
   "outputs": [
    {
     "name": "stdout",
     "output_type": "stream",
     "text": [
      "5 1\n",
      "GAATCTAGAGAGGTTTAGAGCTGAA\n",
      "TGGGTCCACGGTCCTAATGAAGGTT\n",
      "CTGTGGGGTTGAGGTACGCTCCGCC\n",
      "TTTCGTCTTATGATCCGGTTCGGCA\n",
      "GACAAACTAGAGGTTATGACGCCGT\n",
      "GAGTTTGGGAACATCAGCTTGGGTT\n",
      "GGGTCATCGGGAGATGGGTTTGCTC\n",
      "CAGAAGTAATGTTTTGGGTTTGCTG\n",
      "CCTTCAGGCCTATGGCGGTTTCGGG\n",
      "TGGAGACCAGGATATCTACCTGGTT\n"
     ]
    }
   ],
   "source": [
    "with open(\"rosalind_ba2a.txt\", \"r\") as file:\n",
    "    lines = file.readlines()\n",
    "\n",
    "k, d = map(int, lines[0].split())\n",
    "Dna = [line.strip() for line in lines[1:]]\n",
    "\n",
    "for line in lines:\n",
    "    print(line.strip())"
   ]
  },
  {
   "cell_type": "code",
   "execution_count": 13,
   "metadata": {},
   "outputs": [
    {
     "name": "stdout",
     "output_type": "stream",
     "text": [
      "TGGTT GGGTT CGGTT AGGTT\n"
     ]
    }
   ],
   "source": [
    "result = motif_enumeration(Dna, k, d)\n",
    "print(\" \".join(result))"
   ]
  }
 ],
 "metadata": {
  "kernelspec": {
   "display_name": "Python 3",
   "language": "python",
   "name": "python3"
  },
  "language_info": {
   "codemirror_mode": {
    "name": "ipython",
    "version": 3
   },
   "file_extension": ".py",
   "mimetype": "text/x-python",
   "name": "python",
   "nbconvert_exporter": "python",
   "pygments_lexer": "ipython3",
   "version": "3.10.11"
  },
  "orig_nbformat": 4,
  "vscode": {
   "interpreter": {
    "hash": "366f9de4a1878ed8f09516a426b62a3a703aa5fa25c40c9ddde35f183c040af7"
   }
  }
 },
 "nbformat": 4,
 "nbformat_minor": 2
}
