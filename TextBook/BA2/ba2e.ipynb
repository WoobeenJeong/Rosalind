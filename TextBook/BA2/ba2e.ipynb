{
 "cells": [
  {
   "cell_type": "code",
   "execution_count": 1,
   "metadata": {},
   "outputs": [
    {
     "name": "stdout",
     "output_type": "stream",
     "text": [
      "12 25\n",
      "TAGCATTTGTCGGCCGCTGAATACTATCGCGGGTAGACACGTGAAAAGCTGGCTTATCAGCCCCAAGGGGAATAGGATGTCGACCTTGACCTAACAAGCTGCCTTTTATACCAGTTTATGTACTCTGAGACATCCGTTAACTCTACAACCGGTCGC\n",
      "GGGCAAAGCACTACCGTTAAATCTAAGCTTGGGGCAACTTACTTTAATTAGGTGGTTTATAACGTACAGACCCGTCTGACACAAGTGTTTCTATCAACACTGGCACCTCTAGACTGGACCGGCTTCACGATTCCACTCTTGCGATCGTGCGAGTAA\n",
      "AGGTCTTCGCCTCGAGATCGTAGTAGAAAGCAACCCGCCCGATAATAGTGCCGTAAGGACTGCGAGCCCCGCAGAATAATGACAGGCGTTTAGTCTGGACATTAGTAGGGCGGTAACGCATATTGAGTTAGGGCACAGGCTCAGGATGGTTGCCCC\n",
      "GACGTTAAGTCTGAGACGGGTCCTAATATAGCACTTGTTTAGCGTGGGAAAAGTCTGCGGGGGCGAGCGACAGTATCTACTTAAACCTTGTGATCCTTGTAGTCCCAACCCACTGACTGCAAAAGACCGTCAAAATCCGATATAGCCAACCTGCAA\n",
      "AGTGCCGGCATTACATGGGATCCTAGCGTTAACTCTTCTTGGGCCCCAGGAGTCGTGTTTCGGGCAGTCTTCGGTCACGCGTTGCGTATGCAGCGATCCAAGTTTGGCCAATAACTCAGGCGCTAATATCCTGCCATGCAGTCCTCGCTATAAAGG\n",
      "AGTCAACCTCTTCTGGGCCTACGGCGACCACGAAGGTAAATTCTTAGATACGTTGACTCTTAAGTAGTAGATGCGTAAGCCGGCATCGTTAACTCTTACGGTCATAGAGCCTAAGCTCCCGTGCAGAGACAACATGTAATTACACCAAATCGCATC\n",
      "TGATATAGGAAAGTTCCGCTTCAATGTATATTCTTTTGCGACTGTGGATTTCGCATTGGGAATTAGATTAATTAAGTAGCTCACAGTAAATCTACTTTAGCGCCTGCGAACGTTTAATCTTACCTTAAACCATGGATCGGACATTATTGCAGATGG\n",
      "TTCGCAGCACATATGCACTTCTATGTAGTTCAGAACGAATCATAAGTCGAGGTGATAGTGCCGGGTGTTGCCGGACCGGTATCATACGTTTATTCTAAACGTCGGATAACCGGCGGGCGTTCGGAGCAGGCGTGTAGACCTTGGCTTTCCGGGGCA\n",
      "GGCGTTAAATCTCATACTGACCCAGCACCGAGTTTAACGTAGGGGCCAAATGCGGCCCAGTGTGTATCCATTCATGGGCGGTAAATAGCGACTTTGGGACTGGCCTCAGACCCTGAGGTTACACGGATTTTCCGTAACGCGGATTGAACATGTGGC\n",
      "CGTACTAGGCAAATCATAAGTTGTTACCGTCGGGGTATGAGTCGATCCGTCGTCTCTGTGGCCAACACTCCCACGAGAACCGGCTCTAGTTCTTTCAGCGTTCAATCTGTGTAACGTTACGGAGGAAAGCAACTTTGGTCGACCGTTGACATTCAG\n",
      "TACCCCATTTCGGTTAAGCGTTCTCGAGATAATCTATAATCTTGTCCCTTGCATAGGAAGTGGCCTTGACAGGAATAAGGCCAAGCGTACAACTCGTACGTTTATTCTGTGCTGTGCTGCCAGTCGTCCAAGTTGTCTAGGACGGCGGATTAGACA\n",
      "ACAGGGATGGGCCAGGTTGATCCTCTCTGAATAGGCCCCCCGTATGGACGAAGTTACTCCAAGCACTTTCTCACCCGTAACTTATTCCAGACCAACTACGTTGACTCTACCCCCATGCTACACGATCATAATTCACCAAACTTCACTCTAACCGGC\n",
      "CGTTGGAGTAGTATGACTACAATACCAGAGTGTTTTCCTCGGCTTCGCGTCATCCTCGATATCCAAACGTGGGTTTTAGCGAATGGCGTTCAATCTTCGTAAATGCGCGGTGTACATCCTTATGGAAAAGGCTACCTTGTATCACTACAACGGCGC\n",
      "AACGATCTATAAGCTATAGCGGGGGAGCGTCGATTAAGACGGTAACGCAACGTGCGCTGCTAGATTGCCCGTGATCTGTATAACACGCAAAGGTGCCGCGTTCAATCTCAGACAGAACGTCCTGTTGAGTCAATTTAATTACCCGGAGTCCCGTGG\n",
      "ACACTACGCAGTCTTTCTTGGGAAGCGGGTATAGCGTGCGTTAAATCTCGTGAAGGTTTCGAAATCTAACCTAGCAGCAGTAACTAAGATAACATCGCTCTTTGTGTAGATAACCGGTGGATGCAACGTTCTGCTTACGGAGCCATTCCTGGAAGA\n",
      "GAACGCTCCCCCCTTTGGCATTGGTGCATTATAAAAATTCCGGCGGTGGCCGCAGATATCCGTCAGCGTCTTTGTTTGACCAACCCTACCGACGGGATAGCATGTAAGCCAGGGACTGGTTGTAGGGAGCGGCTACCCGTGGGCCCCGTTGAGTCT\n",
      "CATCTGCAACACGCGTAAGGGTCTGTGGTTCCCAGCGGCATGTTGGTTCCTCCCTTAAGGCTCAACCATGAGGCGATGGGCCGTATCTTCCTGAAGATTACGGGCACAACCGTTTAATCTCCGATTAGGATCCGACACATTAAGGTTACTCCACTG\n",
      "CTGAGGTGTTGGCCACTACTGGGCTCACGATAAATCAAATTTATAATCTCGCCGTACAAGTGCCAGTGCCATACCGCTGTTGGTAAATTGGATGTACCTCGACTGCTCGACGCTCAGATTTGACAACGGTACTTCGTTTATTCTGACCCTTGAGAA\n",
      "AAGATTTAGGTACAAACTAAGATCGTTTTCTTCGCTACTTGTTAGACTCGTTTGATACTTCGTGACAGGGGAATATCCGCTACTGGCGATCATCAAATCGTTTAATCTCAAGATCGCCCATGCATACTTAAGTCGCACAAGATTTGTTGTATGCAG\n",
      "CCAACGTCCCTAAGCACATCAGTAAGTCACGAGGTAGCATGCCGGGTCCACTTGCTCGTAGAGTTTGATGCTGCCTCTTTTTTTCCCGTTGAGTCTCAGTATACAGCCGAGGTTACACACTCGACGTAATAGTTCATGACTTCAGGTGGATTAAAC\n",
      "TGGCCCTGATAATAGAATTTAGAACACAGTAGCAACCGACATATAGCGAGACGGCGATATATCGTTAAATCTTGACTAAGGACTGTCGGTACTTCCATCGCGAACCTAGCTCCAAAATCCTTTCATTGTCTCGCACCAATCAATGCGCTTGCGGCT\n",
      "TCGGAGGCAAGGACCCGGCTTATTGGTTATCATATTGCGATAAAGCACCATATCAACGGCGACGGATGATCCTGATGGACGGAAGCCTGTCGGTGGGTTGATTATGTGATACGTTGAGGCCACGTTAAATCTTCATACAACCGAGATTTGCGTCAG\n",
      "TATGCTATGGAAGACGCTTCTGTAGATGCGTTTCTTATCTACCAGGAGGAGGTGTGTGACGGCGTTGAGTCTTGGGTAACTGAAAAAGGTGGCCCGGGCTAGCCGCTCCTGACGCAGTCTACAGAGCGCCTGCATCACCTCCCCAGCGTCCCCCCG\n",
      "GATCCAAGTACGGGTGACGGATACTACTTGAAATGATTCGTGGTAGTACAGATTCATAACCGCGTTAATTCTGTATCGCCTCTGCGAGCCCCTGCACATCGATCTTGCAAGTCAGTGCGAATCTGAAGGGGTGTGGATTCAGCGGAAAGACTTTTG\n",
      "CGCGTTCACTCTTGTAGAAAGGGAGCTGACGGAGGGTTCCCGGGGACGTGCCCTAGTCCGTCCTCTTTTGCCCAGCAGATTCTCACACGCTGGAGTTCCCTAGGTTCGCAGTTCTCTTAAAGTATTCTAGATACGAGTGGGGCCTCGGCTGCTTCC\n"
     ]
    }
   ],
   "source": [
    "with open(\"rosalind_ba2e.txt\", \"r\") as file:\n",
    "    lines = file.readlines()\n",
    "\n",
    "k, d = map(int, lines[0].split())\n",
    "Dna = [line.strip() for line in lines[1:]]\n",
    "\n",
    "for line in lines:\n",
    "    print(line.strip())"
   ]
  },
  {
   "cell_type": "code",
   "execution_count": 2,
   "metadata": {},
   "outputs": [],
   "source": [
    "def most(string, k, profile):\n",
    "    max_prob = 0\n",
    "    most = string[:k]\n",
    "\n",
    "    for i in range(len(string) - k + 1):\n",
    "        kmer = string[i:i + k]\n",
    "        prob = 1.0\n",
    "        for j in range(k):\n",
    "            nt = kmer[j]\n",
    "            prob *= profile[nt][j]\n",
    "\n",
    "        if prob > max_prob:\n",
    "            max_prob = prob\n",
    "            most = kmer\n",
    "\n",
    "    return most"
   ]
  },
  {
   "cell_type": "code",
   "execution_count": 3,
   "metadata": {},
   "outputs": [],
   "source": [
    "def Profile(motifs, pseudo=1):\n",
    "    k = len(motifs[0])\n",
    "    \n",
    "    profile = {\n",
    "        'A': [pseudo] * k,\n",
    "        'C': [pseudo] * k,\n",
    "        'G': [pseudo] * k,\n",
    "        'T': [pseudo] * k\n",
    "    }\n",
    "    total = len(motifs)\n",
    "    \n",
    "    for i in range(k):\n",
    "        for j in range(total):\n",
    "            nt = motifs[j][i]\n",
    "            profile[nt][i] += 1\n",
    "\n",
    "    for nt in profile:\n",
    "        for i in range(k):\n",
    "            profile[nt][i] /= (total+4*pseudo)\n",
    "\n",
    "    return profile"
   ]
  },
  {
   "cell_type": "code",
   "execution_count": 4,
   "metadata": {},
   "outputs": [],
   "source": [
    "def Score(motifs):\n",
    "        common = ''\n",
    "        score = 0\n",
    "\n",
    "        for j in range(len(motifs[0])):\n",
    "            count = {'A': 0, 'C': 0, 'G': 0, 'T': 0}\n",
    "            for motif in motifs:\n",
    "                count[motif[j]] += 1\n",
    "            common += max(count, key=count.get)\n",
    "        \n",
    "        for motif in motifs:\n",
    "            for j in range(len(motifs[0])):\n",
    "                if motif[j] != common[j]:\n",
    "                    score += 1\n",
    "        \n",
    "        return score"
   ]
  },
  {
   "cell_type": "code",
   "execution_count": 5,
   "metadata": {},
   "outputs": [],
   "source": [
    "def greedy(Dna, k, t):\n",
    "\n",
    "    bestmotifs = [dna[:k] for dna in Dna]\n",
    "    \n",
    "    for i in range(len(Dna[0]) - k + 1):\n",
    "        motifs = [Dna[0][i:i + k]]\n",
    "        \n",
    "        for j in range(1, t):\n",
    "            profile = Profile(motifs)\n",
    "            motifs.append(most(Dna[j], k, profile))\n",
    "        \n",
    "        if Score(motifs) < Score(bestmotifs):\n",
    "            bestmotifs = motifs\n",
    "\n",
    "    return bestmotifs"
   ]
  },
  {
   "cell_type": "code",
   "execution_count": 6,
   "metadata": {},
   "outputs": [],
   "source": [
    "result = greedy(Dna, k, d)"
   ]
  },
  {
   "cell_type": "code",
   "execution_count": 7,
   "metadata": {},
   "outputs": [
    {
     "name": "stdout",
     "output_type": "stream",
     "text": [
      "TCCGTTAACTCT\n",
      "ACCGTTAAATCT\n",
      "GGCGTTTAGTCT\n",
      "GACGTTAAGTCT\n",
      "AGCGTTAACTCT\n",
      "ATCGTTAACTCT\n",
      "AACGTTTAATCT\n",
      "TACGTTTATTCT\n",
      "GGCGTTAAATCT\n",
      "AGCGTTCAATCT\n",
      "TACGTTTATTCT\n",
      "TACGTTGACTCT\n",
      "GGCGTTCAATCT\n",
      "CGCGTTCAATCT\n",
      "TGCGTTAAATCT\n",
      "CCCGTTGAGTCT\n",
      "ACCGTTTAATCT\n",
      "TTCGTTTATTCT\n",
      "ATCGTTTAATCT\n",
      "CCCGTTGAGTCT\n",
      "ATCGTTAAATCT\n",
      "CACGTTAAATCT\n",
      "GGCGTTGAGTCT\n",
      "CGCGTTAATTCT\n",
      "CGCGTTCACTCT\n"
     ]
    }
   ],
   "source": [
    "for motif in result:\n",
    "    print(motif)"
   ]
  }
 ],
 "metadata": {
  "kernelspec": {
   "display_name": "Python 3",
   "language": "python",
   "name": "python3"
  },
  "language_info": {
   "codemirror_mode": {
    "name": "ipython",
    "version": 3
   },
   "file_extension": ".py",
   "mimetype": "text/x-python",
   "name": "python",
   "nbconvert_exporter": "python",
   "pygments_lexer": "ipython3",
   "version": "3.10.11"
  },
  "orig_nbformat": 4,
  "vscode": {
   "interpreter": {
    "hash": "366f9de4a1878ed8f09516a426b62a3a703aa5fa25c40c9ddde35f183c040af7"
   }
  }
 },
 "nbformat": 4,
 "nbformat_minor": 2
}
