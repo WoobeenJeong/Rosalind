{
 "cells": [
  {
   "attachments": {},
   "cell_type": "markdown",
   "metadata": {},
   "source": [
    "### Num9에서는 motif의 probability를 활용해 profile이 주어졌고, 이를 기준으로 가장 그럴듯한 kmer를 찾았다면\n",
    "### 이번에는 직접 motif profile을 작성해서 이 profile로 부터 가능성 높은 kmer를 찾아가는 과정이다.\n",
    "### 특히 Greedy motif search는 Tree 형태로 이해하면 쉬우며, 두가지 조건을 비교해서 더 그럴듯한 조건으로 이동하는 local maximum한 방식 "
   ]
  },
  {
   "cell_type": "code",
   "execution_count": 1,
   "metadata": {},
   "outputs": [
    {
     "name": "stdout",
     "output_type": "stream",
     "text": [
      "12 25\n",
      "CGTGTGATATCCGATGACCAAGACATCTCTTAGCCGCGGCACTTGATATATCGTATATGTTCAGCCTGGCTCAAGTGCAACAAGTCACGCATGCCTATGCTGTGCGCGAGGATCATAACGAAGCTACCTCTTCTGCGAGGTACGGTAGAACTATCG\n",
      "ACGTCCCAACCTAGTGCTAGCGGCTCCTTAATATTGGGCGGTTACCATTGTAGTTATGCCGTCTTCACAATATCCACCCGGTTCTTTTTTTAGTTCTTGCCGTACTACAGGACTTTCTAGAACAAGCGCGGGCTCAGGTGTACCGCTCCATCCGGA\n",
      "GCAACGGAGAGTCCCACTGCAACGTATATTCACCATCCACCTTCGTCGAAAGATATTTTAAGCTGAACGTGGTGTTACGTCCCCCTTATAATAGGTTCCGCCGGGTTCAGCACATATGTAAATTTTTCCACCATAATGTGTACAAGTCGTTACGTA\n",
      "TGGTGAGCGGGCTCCGGTGGATAGGACCCAACGAAGGCCTCTTAGCGATCCTCCGGGCTCGGACCACCCCCGTAGCTGAACACAGGGGGAACAGTGAGTAATCTTGGCCCGACACTACGTCACACGAGGAAAGAGTTAGCCAGACCCGCAAATCGA\n",
      "GGGCCATTCCGAACCATAATGGCTTCAACAAATTACGTCGAAGGGTATGGGAAGGTTTTCCAGGTTTCCGATATGCCCCAGTATCCACGGTCTTTATCGCCCCGGATCATAGCAAATGGCGGCAAGCAAGGTGGACTTGTTCTCATCGGCCGTCGT\n",
      "CCTGTTCTAAGCCTATTAAAGGGGGTGTCGGGGCAATCAGCCCGGATCAGCTTTCCGTACTGCAGAAATAATTCATTTAGACCAGCAAGTGCTATTTAACCGTCTTCACCGCCCTCTCGTGAAGCCACAATTAGCATATGCGAGCTAACGCACGTC\n",
      "TCGGTAGGTTGAAAAAACTACTCCATGGAACCACGCTGTATTAGCACCTCATCCCGGATCCTAATCTCCACTGAGGGGAACAAGGGTTATGAAACGCTTCGTCTGAAACTTTGATCGCGTTTAATTACGATTAGATAAATATTTCTGGGCCTTTTA\n",
      "TGTAGACAGAGGCCAATTGAAGGCCCTAGCTGAATCTCGCCACATCGCCGGTGCTAACTCGACAGCTTGGTGCACTGTTATAGCTCGAGCCTCATGTTGTACAGCTGTGTCCCCACTCGTCAGGAATAGAGGCACCTATAAACCTCTTCCCGGCTC\n",
      "TCAGCCTGGTTCGAAAGACTCTTGACAAATGGACAATCATTGAAGAGTTTAGAACGTAGAACTCGGGTGGAACATGTATGTTAGAGTCGGGCCAGAATCTGTCGTTGCTCGACAGAACGCTTTGCCGGAAGAGACTATATGTGTATGCTGTAAACG\n",
      "CGTAAGCTAGCTGAACTACATTTACATTGACTGAGAGCACGATACGAGCCTGTGACGCGTGCACCACTGGGCGACCGCGAGCCGACACCTTAACTGCCCAAGAAAGTTTCGGCTGCCTGGGTTAGCTCACATTCGAGCAGTTATTCTGCCCGGTTC\n",
      "TATAAGAGTGGCTCTACCTGGATCCCATCAGAACGAGGGCTAACCGCGTCCGGTTCCTCCGATCTGTTATGACTTACACTTAATAAGGGGTACCTCATACCACGCAAACGGATGCGTAGCTCCGGATGTAATGCTTATGAGTGAGTAAGGTGACTA\n",
      "CGTTTGCATACGCGCAATTTGTTGCTGTGTTTATCCAGAGCCCTTCTTTACTCTTAGTTAAGCGTGGAGCTCGTAGGCGATCACTCCACCCGGGTCGCGACACACATGATGGTCAGTTAGCACAAGGTGCTGCGGCGATCATACAAGTGTGGTCAT\n",
      "TCGACCCGGTTCGCCCGTTTCGCTACTTCTTCCACGGCCTCGGTTTCGTATGGTAAATGAGGTATCCCGAAGATAATAGTACACTCTCGCCTAGATAGAGTCCCTACAAATCACGCGGGTTGGCACGTCCCTCAGCTCATAAAGGCCCAAAGAGGT\n",
      "CTGTCCTAGGCGAACTCATTATGACCGAGGTCCCTGTCTGCGCCCCGGGGTTCCACTGGTTCTGCCGGGATCTCACCACTACCTACCCTACTCGCGCCCGCCTGGTGAGTAACGAATTAAGCGAACAGACACGGCCGGTAAGCAGCGCCTTGCACT\n",
      "ACGCCATGTCACGACGCGAATCGTACATATCTCGGCTACCGCAACCTGGCGGCAGAACTAATAGGAAACGTGGATATTTGCACGTCCCCGAGCCTATCACTCTTACCGACGGATAGCTGATGTTTCAGACCAGGGAGGTGGAAGTCCGCCGGGATC\n",
      "CAGATTCTTGTAGGTAACCGTAATTCGATTAGATAAGGGGATGGGTCTAGGGGCTGATAATCATCCAGGGTCATGCGCTGGTGCTTTGTTTACGTAACTAATTGTGCTGACGAGTGGCTGGAGAGAGAGAGTATTGTGGTCACCACGCGAACTCTG\n",
      "GTGAGGGATTCTTCGGCCTGGATCTTTGGAAAGTAATAATGTGTCATTTGCGATACCCGCAGAGCCTCGACCACTCTCTAAGCCGAGGCGTTTGCCTCGGCAACCCACGAGATTGCGGGTATTAACCTTATTGACGGGAAGCTGAGACTGAAGGAT\n",
      "TCGCCCTGGGTCAAACCAGTGCAGGCCTACCGAACCTGCATGCAGTCGCGCCCTTCGCTGTCCACCCGGTAAGCTAATGTTGCCGCTCGATCATGTAAGAAGCTTAGCGGGCTCGTTGGGAAACCCCCGAAGTCCTAGGTCCTCCAAAGGCTCGTG\n",
      "GGGTGTCCACCCCTAGAGTTGCAGATCGTGAGAAATTGCAATTTTGTTAGTTTTAGCCGTGGTTTCTAGCAATTGTGCCTCCCTAAATCTCGTAGCTCCTCCTGGGTCAATGGGACGGGGAACCTCGCGTTGTCAAACGGTTAGTCTTCCAAACCA\n",
      "CCGTTTCAGTGGAGCAATCTCGCTCAGCCCGAACGGATGGATATGAACTATTCCGTGGGGTGCCATGTTCGCAATCAAGCGTTGTTAGCCCATTCTTCCACCGGGATCGAATCTAGATGCGGCGACCGGGGTGCATCAGCTGTGCAATTTACCTTT\n",
      "CATTACACGCCTCTGTAACTCGCCTTAGCTCCTCTACCAGCGGTCACCTCGCCCTCCACTTCCCCCAGGATCTGTCGAAATTGCGCTCAGGGCGAAAGGTTAGGACCACCGCTACTCGCTGCTGTCTCGAATTGGTCACGGTATTTTAGTGTGTGT\n",
      "TCGACCCGGCTCAATCTGCACACAAAAAAATCGATCCACAACTGGGGGCAAAGCTAGATGTATGTCATTAGTTCCTTGAACTCCCGCATACACCTTACAGGACGTGGTGAGCGACCCTGCAAGGCTCACGACACCGACTGTAAATGTTTTACTCCA\n",
      "TTCCGACTTGGGATTGCTCTCAACGGTAACCAATCCTTTCCGGATTTTATGACGCGGTCTGGTATAACTCGCCTAGAGTCTGACTCGGCCAGGATCGAAACCGCGTATCTCCATGGTCATTCAGCATCCGAGGTATTACGGTAATTAATAGAGTAA\n",
      "TATTATTGAGACTCTCCGGTCCGTTCTGTGCAATTAAAAGCTGGATGGTCCTCCTGGTTCTGTAGCGGTGGTCCCGGCAGGCAGGTGCATGGGTGCCACGACCGTGTTAAATTAGGTCTGTGGACCCTGGCACTGTCGTTGGTTCATCTAATCTCC\n",
      "TAGTGCAGTGACCATTCCTAAGCAACCATCGTGAAATGGCCAGCCTTGTCCGTAGAACCGTCTTTCAACCTGGCGTGGCCTATAGTGGTGCCGTTGGCATAGCCCTGGCTAGCCCGCCTAATGGCCGCTATTATTTCGAAGCCCTCCGCCTGGATC\n"
     ]
    }
   ],
   "source": [
    "with open(\"rosalind_ba2d.txt\", \"r\") as file:\n",
    "    lines = file.readlines()\n",
    "\n",
    "k, d = map(int, lines[0].split())\n",
    "Dna = [line.strip() for line in lines[1:]]\n",
    "\n",
    "for line in lines:\n",
    "    print(line.strip())"
   ]
  },
  {
   "cell_type": "code",
   "execution_count": 2,
   "metadata": {},
   "outputs": [],
   "source": [
    "def most(string, k, profile):\n",
    "    max_prob = 0\n",
    "    most = string[:k]\n",
    "\n",
    "    for i in range(len(string) - k + 1):\n",
    "        kmer = string[i:i + k]\n",
    "        prob = 1.0\n",
    "        for j in range(k):\n",
    "            nt = kmer[j]\n",
    "            prob *= profile[nt][j]\n",
    "\n",
    "        if prob > max_prob:\n",
    "            max_prob = prob\n",
    "            most = kmer\n",
    "\n",
    "    return most"
   ]
  },
  {
   "attachments": {},
   "cell_type": "markdown",
   "metadata": {},
   "source": [
    "### Num9의 most함수 활용, 가능한 kmer 찾기"
   ]
  },
  {
   "cell_type": "code",
   "execution_count": 3,
   "metadata": {},
   "outputs": [],
   "source": [
    "def Profile(motifs):\n",
    "    k = len(motifs[0])\n",
    "    profile = {\n",
    "        'A': [0.0] * k,\n",
    "        'C': [0.0] * k,\n",
    "        'G': [0.0] * k,\n",
    "        'T': [0.0] * k\n",
    "    }\n",
    "    motif_count = len(motifs)\n",
    "    \n",
    "    for i in range(k):\n",
    "        for j in range(motif_count):\n",
    "            nt = motifs[j][i]\n",
    "            profile[nt][i] += 1\n",
    "\n",
    "    for nt in profile:\n",
    "        for i in range(k):\n",
    "            profile[nt][i] /= motif_count\n",
    "\n",
    "    # print(profile)\n",
    "\n",
    "    return profile"
   ]
  },
  {
   "cell_type": "code",
   "execution_count": 4,
   "metadata": {},
   "outputs": [],
   "source": [
    "def Score(motifs):\n",
    "        common = ''\n",
    "        score = 0\n",
    "\n",
    "        for j in range(len(motifs[0])):\n",
    "            count = {'A': 0, 'C': 0, 'G': 0, 'T': 0}\n",
    "            for motif in motifs:\n",
    "                count[motif[j]] += 1\n",
    "            common += max(count, key=count.get)\n",
    "        \n",
    "        for motif in motifs:\n",
    "            for j in range(len(motifs[0])):\n",
    "                if motif[j] != common[j]:\n",
    "                    score += 1\n",
    "        \n",
    "        return score"
   ]
  },
  {
   "attachments": {},
   "cell_type": "markdown",
   "metadata": {},
   "source": [
    "    GREEDYMOTIFSEARCH(Dna, k, t)\n",
    "        BestMotifs ← motif matrix formed by first k-mers in each string\n",
    "                      from Dna\n",
    "        for each k-mer Motif in the first string from Dna\n",
    "            Motif1 ← Motif\n",
    "            for i = 2 to t\n",
    "                form Profile from motifs Motif1, …, Motifi - 1\n",
    "                Motifi ← Profile-most probable k-mer in the i-th string\n",
    "                          in Dna\n",
    "            Motifs ← (Motif1, …, Motift)\n",
    "            if Score(Motifs) < Score(BestMotifs)\n",
    "                BestMotifs ← Motifs\n",
    "        return BestMotifs"
   ]
  },
  {
   "cell_type": "code",
   "execution_count": 5,
   "metadata": {},
   "outputs": [],
   "source": [
    "def greedy(Dna, k, t):\n",
    "\n",
    "    bestmotifs = [dna[:k] for dna in Dna]\n",
    "    \n",
    "    for i in range(len(Dna[0]) - k + 1):\n",
    "        motifs = [Dna[0][i:i + k]]\n",
    "        \n",
    "        for j in range(1, t):\n",
    "            profile = Profile(motifs)\n",
    "            motifs.append(most(Dna[j], k, profile))\n",
    "        \n",
    "        if Score(motifs) < Score(bestmotifs):\n",
    "            bestmotifs = motifs\n",
    "\n",
    "    return bestmotifs"
   ]
  },
  {
   "cell_type": "code",
   "execution_count": 6,
   "metadata": {},
   "outputs": [],
   "source": [
    "result = greedy(Dna, k, d)"
   ]
  },
  {
   "cell_type": "code",
   "execution_count": 7,
   "metadata": {},
   "outputs": [],
   "source": [
    "\n",
    "# for motif in sorted(result, key=lambda x: x[0]):\n",
    "#     print(motif)"
   ]
  },
  {
   "cell_type": "code",
   "execution_count": 8,
   "metadata": {},
   "outputs": [
    {
     "name": "stdout",
     "output_type": "stream",
     "text": [
      "TGCGCGAGGATC\n",
      "ACGTCCCAACCT\n",
      "GCAACGGAGAGT\n",
      "TCCTCCGGGCTC\n",
      "GGGCCATTCCGA\n",
      "TCAGCCCGGATC\n",
      "TCATCCCGGATC\n",
      "TCGTCAGGAATA\n",
      "TCGACAGAACGC\n",
      "ACCGCGAGCCGA\n",
      "TATAAGAGTGGC\n",
      "TCCACCCGGGTC\n",
      "ACGTCCCTCAGC\n",
      "TCTGCCGGGATC\n",
      "TCCGCCGGGATC\n",
      "TCATCCAGGGTC\n",
      "TCGGCCTGGATC\n",
      "TCGCCCTGGGTC\n",
      "TCCTCCTGGGTC\n",
      "TCCACCGGGATC\n",
      "TCCCCCAGGATC\n",
      "TCGACCCGGCTC\n",
      "TCGGCCAGGATC\n",
      "TGGACCCTGGCA\n",
      "TCCGCCTGGATC\n"
     ]
    }
   ],
   "source": [
    "for motif in result:\n",
    "    print(motif)"
   ]
  }
 ],
 "metadata": {
  "kernelspec": {
   "display_name": "Python 3",
   "language": "python",
   "name": "python3"
  },
  "language_info": {
   "codemirror_mode": {
    "name": "ipython",
    "version": 3
   },
   "file_extension": ".py",
   "mimetype": "text/x-python",
   "name": "python",
   "nbconvert_exporter": "python",
   "pygments_lexer": "ipython3",
   "version": "3.10.11"
  },
  "orig_nbformat": 4,
  "vscode": {
   "interpreter": {
    "hash": "366f9de4a1878ed8f09516a426b62a3a703aa5fa25c40c9ddde35f183c040af7"
   }
  }
 },
 "nbformat": 4,
 "nbformat_minor": 2
}
